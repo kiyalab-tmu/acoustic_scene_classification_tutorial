{
 "cells": [
  {
   "cell_type": "markdown",
   "metadata": {},
   "source": [
    "## 特徴量を可視化するために使うJupyter Notebook (動作確認してない)"
   ]
  },
  {
   "cell_type": "code",
   "execution_count": null,
   "metadata": {
    "tags": []
   },
   "outputs": [],
   "source": [
    "import pickle\n",
    "from matplotlib import pyplot as plt\n",
    "import numpy as np"
   ]
  },
  {
   "cell_type": "code",
   "execution_count": null,
   "metadata": {
    "tags": []
   },
   "outputs": [],
   "source": [
    "target_sample_num = 0\n",
    "\n",
    "with open('../output/sinsnode2/logmelspectrogram/test/feature_' + str(target_sample) + '.pickle', 'rb') as f:\n",
    "    logmelspectrogram = pickle.load(f)\n",
    "\n",
    "plt.imshow(np.flipud(stft_output), cmap='jet')\n",
    "plt.show()"
   ]
  }
 ],
 "metadata": {
  "interpreter": {
   "hash": "51d5cc99841b7777c4568e2f03a3decbb8e2b2ceaa3e60d3d3a3a3009301e8e5"
  },
  "kernelspec": {
   "display_name": "Python 3.8.3 64-bit ('testGroupPhase': conda)",
   "name": "python3"
  },
  "language_info": {
   "codemirror_mode": {
    "name": "ipython",
    "version": 3
   },
   "file_extension": ".py",
   "mimetype": "text/x-python",
   "name": "python",
   "nbconvert_exporter": "python",
   "pygments_lexer": "ipython3",
   "version": "3.8.3"
  }
 },
 "nbformat": 4,
 "nbformat_minor": 4
}
